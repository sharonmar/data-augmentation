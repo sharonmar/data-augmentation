{
  "nbformat": 4,
  "nbformat_minor": 0,
  "metadata": {
    "colab": {
      "name": "Copia de Classifying Iris Species_MEC-3A.ipynb",
      "provenance": [],
      "authorship_tag": "ABX9TyObXe3dcZOGEkuGJK2wlqCn",
      "include_colab_link": true
    },
    "kernelspec": {
      "name": "python3",
      "display_name": "Python 3"
    }
  },
  "cells": [
    {
      "cell_type": "markdown",
      "metadata": {
        "id": "view-in-github",
        "colab_type": "text"
      },
      "source": [
        "<a href=\"https://colab.research.google.com/github/sharonmar/data-augmentation/blob/main/Copia_de_Classifying_Iris_Species_MEC_3A.ipynb\" target=\"_parent\"><img src=\"https://colab.research.google.com/assets/colab-badge.svg\" alt=\"Open In Colab\"/></a>"
      ]
    },
    {
      "cell_type": "markdown",
      "metadata": {
        "id": "Op2bw1fQVFep"
      },
      "source": [
        "# **A First Application: Classifying Iris Species**"
      ]
    },
    {
      "cell_type": "markdown",
      "metadata": {
        "id": "GVSzAPHDVWYn"
      },
      "source": [
        "We are going to build a classifier for Iris-type flowers.\n",
        "In the process, we will introduce some core concepts and terms.\n",
        "\n",
        "There are samples of each of three species of Iris: Iris setosa, Iris virginica and Iris versicolor and for each of these species four traits of each sample were measured: the length and width of the sepals and petals. \n",
        "\n",
        "In these photos you can see the difference between petal and sepal  [(these photo)](https://www.oreilly.com/library/view/python-artificial-intelligence/9781789539462/assets/462dc4fa-fd62-4539-8599-ac80a441382c.png)\n",
        "\n",
        "Our goal is to build a machine learning model that can learn from the measurements of these irises whose species is known, so that we can predict the species for a new iris."
      ]
    },
    {
      "cell_type": "markdown",
      "metadata": {
        "id": "z-81yAAk58V0"
      },
      "source": [
        "# Meet the Data\n",
        "\n",
        "The data we will use, is the **Iris_ dataset**.\n",
        "\n",
        "It is included in **scikit-learn** in the datasets module. scikit-learn comes with a few small standard datasets that do not require to download any file from some external website.\n",
        "\n",
        " \n",
        "We can load it by calling the **load_iris** function:\n",
        " load_iris()\tLoad and return the iris dataset (classification).\n",
        " The iris object that is returned by load_iris is a **Bunch object**, which is very similar to a dictionary. It contains keys and values: You search for words (keys), and get their definition (value). In programming, you can make the keys and values anything you choose (words, numbers, etc.)."
      ]
    },
    {
      "cell_type": "code",
      "metadata": {
        "id": "_IpiMp2N1yPa",
        "outputId": "128e12d1-de69-4ffe-d452-59a11f4806cd",
        "colab": {
          "base_uri": "https://localhost:8080/",
          "height": 50
        }
      },
      "source": [
        "from sklearn.datasets import load_iris\n",
        "iris_dataset = load_iris()\n",
        "print(\"Keys of iris_dataset: \\n{}\".format(iris_dataset.keys()))\n",
        "\n"
      ],
      "execution_count": null,
      "outputs": [
        {
          "output_type": "stream",
          "text": [
            "Keys of iris_dataset: \n",
            "dict_keys(['data', 'target', 'target_names', 'DESCR', 'feature_names', 'filename'])\n"
          ],
          "name": "stdout"
        }
      ]
    },
    {
      "cell_type": "markdown",
      "metadata": {
        "id": "ofzlZUdrCpXl"
      },
      "source": [
        "Use the value **DESCR** to get a short description of the dataset. \n",
        "\n",
        "DESCR , short for DESCRIPTION, is a description of the dataset\n"
      ]
    },
    {
      "cell_type": "code",
      "metadata": {
        "id": "-zd0D8_W4aAA",
        "outputId": "c0af1986-bb59-457c-8794-3e905170ea22",
        "colab": {
          "base_uri": "https://localhost:8080/",
          "height": 180
        }
      },
      "source": [
        "print(iris_dataset['DESCR'][:193] + \"\\n...\")\n"
      ],
      "execution_count": null,
      "outputs": [
        {
          "output_type": "stream",
          "text": [
            ".. _iris_dataset:\n",
            "\n",
            "Iris plants dataset\n",
            "--------------------\n",
            "\n",
            "**Data Set Characteristics:**\n",
            "\n",
            "    :Number of Instances: 150 (50 in each of three classes)\n",
            "    :Number of Attributes: 4 numeric, pre\n",
            "...\n"
          ],
          "name": "stdout"
        }
      ]
    },
    {
      "cell_type": "markdown",
      "metadata": {
        "id": "vVdkaBmvH01M"
      },
      "source": [
        "We can now view the the **target_name** for the iris dataset. The value of the key target_names is an array of strings, containing the species of\n",
        "flower that we want to predict:"
      ]
    },
    {
      "cell_type": "code",
      "metadata": {
        "id": "GJM7Lmcv4jb2",
        "outputId": "72724a30-4275-425f-fe8e-58b81e2519d2",
        "colab": {
          "base_uri": "https://localhost:8080/",
          "height": 33
        }
      },
      "source": [
        "print(\"Target names: {}\".format(iris_dataset['target_names']))\n"
      ],
      "execution_count": null,
      "outputs": [
        {
          "output_type": "stream",
          "text": [
            "Target names: ['setosa' 'versicolor' 'virginica']\n"
          ],
          "name": "stdout"
        }
      ]
    },
    {
      "cell_type": "markdown",
      "metadata": {
        "id": "ZmS89digN3ZJ"
      },
      "source": [
        "look to the features inside the dataset\n",
        "**feature_names** are the names of the feature variables, in other words names of the columns in data"
      ]
    },
    {
      "cell_type": "code",
      "metadata": {
        "id": "ph59jDOO4oON",
        "outputId": "70701ba8-79b0-4316-f653-e5014797b775",
        "colab": {
          "base_uri": "https://localhost:8080/",
          "height": 50
        }
      },
      "source": [
        "print(\"Feature names: \\n{}\".format(iris_dataset['feature_names']))"
      ],
      "execution_count": null,
      "outputs": [
        {
          "output_type": "stream",
          "text": [
            "Feature names: \n",
            "['sepal length (cm)', 'sepal width (cm)', 'petal length (cm)', 'petal width (cm)']\n"
          ],
          "name": "stdout"
        }
      ]
    },
    {
      "cell_type": "markdown",
      "metadata": {
        "id": "MDJw7uHRP4oL"
      },
      "source": [
        "The data itself is contained in the target and data fields. data contains the numeric\n",
        "measurements of sepal length, sepal width, petal length, and petal width in a NumPy array"
      ]
    },
    {
      "cell_type": "code",
      "metadata": {
        "id": "Gy5QYcYT4ttR",
        "outputId": "3cefe5e0-dbbd-43ba-fc95-4379c2d344ca",
        "colab": {
          "base_uri": "https://localhost:8080/",
          "height": 33
        }
      },
      "source": [
        "print(\"Type of data: {}\".format(type(iris_dataset['data'])))"
      ],
      "execution_count": null,
      "outputs": [
        {
          "output_type": "stream",
          "text": [
            "Type of data: <class 'numpy.ndarray'>\n"
          ],
          "name": "stdout"
        }
      ]
    },
    {
      "cell_type": "markdown",
      "metadata": {
        "id": "FLLNT9GQQCRw"
      },
      "source": [
        "The rows in the data array correspond to flowers, while the columns represent the\n",
        "four measurements that were taken for each flower"
      ]
    },
    {
      "cell_type": "code",
      "metadata": {
        "id": "r_t4xyd04x-U",
        "outputId": "41cc289e-b941-4403-d792-d8d92306926b",
        "colab": {
          "base_uri": "https://localhost:8080/",
          "height": 33
        }
      },
      "source": [
        "print(\"Shape of data: {}\".format(iris_dataset['data'].shape))"
      ],
      "execution_count": null,
      "outputs": [
        {
          "output_type": "stream",
          "text": [
            "Shape of data: (150, 4)\n"
          ],
          "name": "stdout"
        }
      ]
    },
    {
      "cell_type": "markdown",
      "metadata": {
        "id": "QJ0-sYpQR9QH"
      },
      "source": [
        "look at the data.\n",
        "\n",
        "Here are the feature values for the first five samples:\n",
        "\n",
        "\n"
      ]
    },
    {
      "cell_type": "code",
      "metadata": {
        "id": "TjBvDdAOSNC_",
        "outputId": "dffaa170-fffd-45b9-8702-cdb970df14ce",
        "colab": {
          "base_uri": "https://localhost:8080/",
          "height": 115
        }
      },
      "source": [
        "print(\"First five columns of data:\\n{}\".format(iris_dataset['data'][:5]))"
      ],
      "execution_count": null,
      "outputs": [
        {
          "output_type": "stream",
          "text": [
            "First five columns of data:\n",
            "[[5.1 3.5 1.4 0.2]\n",
            " [4.9 3.  1.4 0.2]\n",
            " [4.7 3.2 1.3 0.2]\n",
            " [4.6 3.1 1.5 0.2]\n",
            " [5.  3.6 1.4 0.2]]\n"
          ],
          "name": "stdout"
        }
      ]
    },
    {
      "cell_type": "markdown",
      "metadata": {
        "id": "FdB0pl_5SrEc"
      },
      "source": [
        "The target array contains the species of each of the flowers that were measured, also as a NumPy array"
      ]
    },
    {
      "cell_type": "code",
      "metadata": {
        "id": "UVRTl7hZSgrQ",
        "outputId": "cf85ab4c-47c2-4136-af62-5a6a24f5d882",
        "colab": {
          "base_uri": "https://localhost:8080/",
          "height": 33
        }
      },
      "source": [
        "print(\"Type of target: {}\".format(type(iris_dataset['target'])))"
      ],
      "execution_count": null,
      "outputs": [
        {
          "output_type": "stream",
          "text": [
            "Type of target: <class 'numpy.ndarray'>\n"
          ],
          "name": "stdout"
        }
      ]
    },
    {
      "cell_type": "markdown",
      "metadata": {
        "id": "j3pto3nYTXiG"
      },
      "source": [
        "target is a one-dimensional array, with one entry per flower:"
      ]
    },
    {
      "cell_type": "code",
      "metadata": {
        "id": "bpE4duUwTaCN",
        "outputId": "9a0d4502-3918-42db-ced2-daacc3b39970",
        "colab": {
          "base_uri": "https://localhost:8080/",
          "height": 33
        }
      },
      "source": [
        "print(\"Shape of target: {}\".format(iris_dataset['target'].shape))"
      ],
      "execution_count": null,
      "outputs": [
        {
          "output_type": "stream",
          "text": [
            "Shape of target: (150,)\n"
          ],
          "name": "stdout"
        }
      ]
    },
    {
      "cell_type": "markdown",
      "metadata": {
        "id": "o29hGIpTUAqZ"
      },
      "source": [
        "Species are encoded as integers from 0 to 2:\n",
        "\n",
        "0 means setosa, 1 means versicolor, and 2 means virginica.\n",
        "The meaning of the numbers is given by the matrix iris ['target_names']:"
      ]
    },
    {
      "cell_type": "code",
      "metadata": {
        "id": "Wjx0ua3_UIn7",
        "outputId": "4eb60d93-2b8c-4225-c378-3b9b80c0d6a5",
        "colab": {
          "base_uri": "https://localhost:8080/",
          "height": 115
        }
      },
      "source": [
        "print(\"Target:\\n{}\".format(iris_dataset['target']))"
      ],
      "execution_count": null,
      "outputs": [
        {
          "output_type": "stream",
          "text": [
            "Target:\n",
            "[0 0 0 0 0 0 0 0 0 0 0 0 0 0 0 0 0 0 0 0 0 0 0 0 0 0 0 0 0 0 0 0 0 0 0 0 0\n",
            " 0 0 0 0 0 0 0 0 0 0 0 0 0 1 1 1 1 1 1 1 1 1 1 1 1 1 1 1 1 1 1 1 1 1 1 1 1\n",
            " 1 1 1 1 1 1 1 1 1 1 1 1 1 1 1 1 1 1 1 1 1 1 1 1 1 1 2 2 2 2 2 2 2 2 2 2 2\n",
            " 2 2 2 2 2 2 2 2 2 2 2 2 2 2 2 2 2 2 2 2 2 2 2 2 2 2 2 2 2 2 2 2 2 2 2 2 2\n",
            " 2 2]\n"
          ],
          "name": "stdout"
        }
      ]
    },
    {
      "cell_type": "markdown",
      "metadata": {
        "id": "QDZBewDSV8nb"
      },
      "source": [
        "we will build a machine learning model from this data that can predict the Iris cies for a new set of measurements.\n",
        "But, we need to know whether it actually works—that is, whether we\n",
        "should trust its predictions.\n",
        "we cannot use the data we used This is because our model can always simply remember the whole training set, and will therefore always predict the correct label for any point in the training set. \n",
        "To assess the model’s performance, we show data that it hasn’t seen before, for which we have labels. This is usually done by splitting the labeled data we\n",
        "have collected (here, our 150 flower measurements) into two parts. \n",
        "- One part is called the training data or\n",
        "training set(is used to build our machine learning model). \n",
        "- The rest is called the test data, test set, or hold-out set (The rest of the data will be used to assess how well the model works)\n",
        "\n",
        "scikit-learn contains a function that shuffles the dataset and splits it for you: the\n",
        "train_test_split function. This function extracts 75% of the rows in the data as the\n",
        "training set, together with the corresponding labels for this data. The remaining 25%\n",
        "of the data, together with the remaining labels, is declared as the test set. Deciding how much data you want to put into the training and the test set respectively is some‐\n",
        "what arbitrary, but using a test set containing 25% of the data is a good rule of thumb.\n",
        "In scikit-learn, data is usually denoted with a capital X, while labels are denoted by\n",
        "a lowercase y. "
      ]
    },
    {
      "cell_type": "markdown",
      "metadata": {
        "id": "ooYDVgnRjFOK"
      },
      "source": [
        "Let’s call train_test_split on our data and assign the outputs using this nomenclature\n",
        "\n",
        "To make sure that we will get the same output if we run the same function several\n",
        "times, we provide the pseudorandom number generator with a fixed seed using the\n",
        "random_state parameter. This will make the outcome deterministic, so this line will\n",
        "always have the same outcome. We will always fix the random_state in this way when\n",
        "using randomized procedures in this book.\n",
        "\n",
        "\n",
        "The output of the train_test_split function is X_train, X_test, y_train, and\n",
        "y_test, which are all NumPy arrays. X_train contains 75% of the rows of the dataset,\n",
        "and X_test contains the remaining 25%:"
      ]
    },
    {
      "cell_type": "code",
      "metadata": {
        "id": "xSrcUEX0hsu_"
      },
      "source": [
        "from sklearn.model_selection import train_test_split\n",
        "X_train, X_test, y_train, y_test = train_test_split(\n",
        " iris_dataset['data'], iris_dataset['target'], random_state=0)"
      ],
      "execution_count": null,
      "outputs": []
    },
    {
      "cell_type": "code",
      "metadata": {
        "id": "vjgHHeDTlzeI",
        "outputId": "af177f81-3259-419c-dda0-0740fe1c2b54",
        "colab": {
          "base_uri": "https://localhost:8080/",
          "height": 50
        }
      },
      "source": [
        "print(\"X_train shape: {}\".format(X_train.shape))\n",
        "print(\"y_train shape: {}\".format(y_train.shape))"
      ],
      "execution_count": null,
      "outputs": [
        {
          "output_type": "stream",
          "text": [
            "X_train shape: (112, 4)\n",
            "y_train shape: (112,)\n"
          ],
          "name": "stdout"
        }
      ]
    },
    {
      "cell_type": "code",
      "metadata": {
        "id": "V0Ed-_KTl-td",
        "outputId": "25af9b11-79fd-481c-e341-1071d0d3cc3a",
        "colab": {
          "base_uri": "https://localhost:8080/",
          "height": 50
        }
      },
      "source": [
        "print(\"X_test shape: {}\".format(X_test.shape))\n",
        "print(\"y_test shape: {}\".format(y_test.shape))"
      ],
      "execution_count": null,
      "outputs": [
        {
          "output_type": "stream",
          "text": [
            "X_test shape: (38, 4)\n",
            "y_test shape: (38,)\n"
          ],
          "name": "stdout"
        }
      ]
    },
    {
      "cell_type": "markdown",
      "metadata": {
        "id": "81AO8u4OjRUF"
      },
      "source": [
        "Before building a machine learning model it is often a good idea to inspect the data,\n",
        "to see if the task is easily solvable without machine learning, or if the desired infor‐\n",
        "mation might not be contained in the data.\n",
        "Additionally, inspecting your data is a good way to find abnormalities and peculiarities. \n",
        "One of the best ways to inspect data is to visualize it. One way to do this is by using a\n",
        "scatter plot.Unfortunately, computer\n",
        "screens have only two dimensions, which allows us to plot only two (or maybe three)\n",
        "features at a time. It is difficult to plot datasets with more than three features this way.\n",
        "One way around this problem is to do a pair plot, which looks at all possible pairs of\n",
        "features. If you have a small number of features, such as the four we have here, this is\n",
        "quite reasonable. You should keep in mind, however, that a pair plot does not show\n",
        "the interaction of all of features at once, so some interesting aspects of the data may\n",
        "not be revealed when visualizing it this way.\n"
      ]
    },
    {
      "cell_type": "code",
      "metadata": {
        "id": "dlE-uMpZi2Yt",
        "outputId": "a1303b57-7f06-4636-c6ae-f6b6cec3f7a8",
        "colab": {
          "base_uri": "https://localhost:8080/",
          "height": 207
        }
      },
      "source": [
        "# create dataframe from data in X_train\n",
        "# label the columns using the strings in iris_dataset.feature_names\n",
        "iris_dataframe = pd.DataFrame(X_train, columns=iris_dataset.feature_names)\n",
        "# create a scatter matrix from the dataframe, color by y_train\n",
        "grr = pd.scatter_matrix(iris_dataframe, c=y_train, figsize=(15, 15), marker='o',\n",
        " hist_kwds={'bins': 20}, s=60, alpha=.8, cmap=mglearn.cm3)"
      ],
      "execution_count": null,
      "outputs": [
        {
          "output_type": "error",
          "ename": "AttributeError",
          "evalue": "ignored",
          "traceback": [
            "\u001b[0;31m---------------------------------------------------------------------------\u001b[0m",
            "\u001b[0;31mAttributeError\u001b[0m                            Traceback (most recent call last)",
            "\u001b[0;32m<ipython-input-49-20abf29e2874>\u001b[0m in \u001b[0;36m<module>\u001b[0;34m()\u001b[0m\n\u001b[1;32m      3\u001b[0m \u001b[0miris_dataframe\u001b[0m \u001b[0;34m=\u001b[0m \u001b[0mpd\u001b[0m\u001b[0;34m.\u001b[0m\u001b[0mDataFrame\u001b[0m\u001b[0;34m(\u001b[0m\u001b[0mX_train\u001b[0m\u001b[0;34m,\u001b[0m \u001b[0mcolumns\u001b[0m\u001b[0;34m=\u001b[0m\u001b[0miris_dataset\u001b[0m\u001b[0;34m.\u001b[0m\u001b[0mfeature_names\u001b[0m\u001b[0;34m)\u001b[0m\u001b[0;34m\u001b[0m\u001b[0;34m\u001b[0m\u001b[0m\n\u001b[1;32m      4\u001b[0m \u001b[0;31m# create a scatter matrix from the dataframe, color by y_train\u001b[0m\u001b[0;34m\u001b[0m\u001b[0;34m\u001b[0m\u001b[0;34m\u001b[0m\u001b[0m\n\u001b[0;32m----> 5\u001b[0;31m grr = pd.scatter_matrix(iris_dataframe, c=y_train, figsize=(15, 15), marker='o',\n\u001b[0m\u001b[1;32m      6\u001b[0m  hist_kwds={'bins': 20}, s=60, alpha=.8, cmap=mglearn.cm3)\n",
            "\u001b[0;31mAttributeError\u001b[0m: module 'pandas' has no attribute 'scatter_matrix'"
          ]
        }
      ]
    },
    {
      "cell_type": "markdown",
      "metadata": {
        "id": "oojYM2UCzJuM"
      },
      "source": [
        "To build a model,import classifier classes from Scikit learn.\n",
        "Here we will use a k-nearestneighbors classifier, which is easy to understand. Building this model only consists of\n",
        "storing the training set. To make a prediction for a new data point, the algorithm\n",
        "finds the point in the training set that is closest to the new point. Then it assigns the\n",
        "label of this training point to the new data point."
      ]
    },
    {
      "cell_type": "code",
      "metadata": {
        "id": "yvatWzjYpBGY"
      },
      "source": [
        "from sklearn.neighbors import KNeighborsClassifier\n",
        "knn = KNeighborsClassifier(n_neighbors=1)"
      ],
      "execution_count": null,
      "outputs": []
    },
    {
      "cell_type": "markdown",
      "metadata": {
        "id": "CRk2RqGs0ccz"
      },
      "source": [
        "The knn object encapsulates the algorithm that will be used to build the model from\n",
        "the training data, as well the algorithm to make predictions on new data points. It will\n",
        "also hold the information that the algorithm has extracted from the training data. In\n",
        "the case of KNeighborsClassifier, it will just store the training set.\n",
        "To build the model on the training set, we call the fit method of the knn object,\n",
        "which takes as arguments the NumPy array X_train containing the training data and\n",
        "the NumPy array y_train of the corresponding training labels:\n"
      ]
    },
    {
      "cell_type": "code",
      "metadata": {
        "id": "PM7TPvrspG9j",
        "outputId": "c46d8ccd-1067-4037-ec1a-1a2467702d5a",
        "colab": {
          "base_uri": "https://localhost:8080/",
          "height": 66
        }
      },
      "source": [
        "knn.fit(X_train, y_train)"
      ],
      "execution_count": null,
      "outputs": [
        {
          "output_type": "execute_result",
          "data": {
            "text/plain": [
              "KNeighborsClassifier(algorithm='auto', leaf_size=30, metric='minkowski',\n",
              "                     metric_params=None, n_jobs=None, n_neighbors=1, p=2,\n",
              "                     weights='uniform')"
            ]
          },
          "metadata": {
            "tags": []
          },
          "execution_count": 23
        }
      ]
    },
    {
      "cell_type": "markdown",
      "metadata": {
        "id": "dThgyO0vpMLN"
      },
      "source": [
        "### Making Predictions\n",
        "We can now make predictions using this model on new data for which we might not\n",
        "know the correct labels."
      ]
    },
    {
      "cell_type": "code",
      "metadata": {
        "id": "XWjd2PY6pLAO",
        "outputId": "6ce300fe-d9cd-4772-a913-d903dd4ab270",
        "colab": {
          "base_uri": "https://localhost:8080/",
          "height": 33
        }
      },
      "source": [
        "import numpy as np\n",
        "\n",
        "X_new = np.array([[5, 2.9, 1, 0.2]])\n",
        "print(\"X_new.shape: {}\".format(X_new.shape))"
      ],
      "execution_count": null,
      "outputs": [
        {
          "output_type": "stream",
          "text": [
            "X_new.shape: (1, 4)\n"
          ],
          "name": "stdout"
        }
      ]
    },
    {
      "cell_type": "markdown",
      "metadata": {
        "id": "9z-8_WVR15gY"
      },
      "source": [
        "Note that we made the measurements of this single flower into a row in a twodimensional NumPy array, as scikit-learn always expects two-dimensional arrays\n",
        "for the data.\n",
        "To make a prediction, we call the predict method of the knn object:"
      ]
    },
    {
      "cell_type": "code",
      "metadata": {
        "id": "9vgW1Dksrr9i",
        "outputId": "9ee17c2c-4d52-465c-b749-27c72aae5ef7",
        "colab": {
          "base_uri": "https://localhost:8080/",
          "height": 50
        }
      },
      "source": [
        "prediction = knn.predict(X_new)\n",
        "print(\"Prediction: {}\".format(prediction))\n",
        "print(\"Predicted target name: {}\".format(\n",
        " iris_dataset['target_names'][prediction]))\n"
      ],
      "execution_count": null,
      "outputs": [
        {
          "output_type": "stream",
          "text": [
            "Prediction: [0]\n",
            "Predicted target name: ['setosa']\n"
          ],
          "name": "stdout"
        }
      ]
    },
    {
      "cell_type": "markdown",
      "metadata": {
        "id": "JHcRf8RJ18rB"
      },
      "source": [
        "Evaluating the Model\n",
        "This is where the test set that we created earlier comes in. This data was not used to\n",
        "build the model, but we do know what the correct species is for each iris in the test\n",
        "set.\n",
        "Therefore, we can make a prediction for each iris in the test data and compare it\n",
        "against its label (the known species). We can measure how well the model works by\n",
        "computing the accuracy, which is the fraction of flowers for which the right species\n",
        "was predicted:"
      ]
    },
    {
      "cell_type": "code",
      "metadata": {
        "id": "uf3T8K7ar9ss",
        "outputId": "072767e8-ede9-46ef-8f2e-0451000f1fca",
        "colab": {
          "base_uri": "https://localhost:8080/",
          "height": 66
        }
      },
      "source": [
        "y_pred = knn.predict(X_test)\n",
        "print(\"Test set predictions:\\n {}\".format(y_pred))"
      ],
      "execution_count": null,
      "outputs": [
        {
          "output_type": "stream",
          "text": [
            "Test set predictions:\n",
            " [2 1 0 2 0 2 0 1 1 1 2 1 1 1 1 0 1 1 0 0 2 1 0 0 2 0 0 1 1 0 2 1 0 2 2 1 0\n",
            " 2]\n"
          ],
          "name": "stdout"
        }
      ]
    },
    {
      "cell_type": "code",
      "metadata": {
        "id": "QFWPdApVsDWx",
        "outputId": "2eebc856-2818-47cf-bedf-2a87208a9cc1",
        "colab": {
          "base_uri": "https://localhost:8080/",
          "height": 33
        }
      },
      "source": [
        "print(\"Test set score: {:.2f}\".format(np.mean(y_pred == y_test)))"
      ],
      "execution_count": null,
      "outputs": [
        {
          "output_type": "stream",
          "text": [
            "Test set score: 0.97\n"
          ],
          "name": "stdout"
        }
      ]
    },
    {
      "cell_type": "markdown",
      "metadata": {
        "id": "W7lpTu0k5rNN"
      },
      "source": [
        "We can also use the score method of the knn object, which will compute the test set accuracy for us:"
      ]
    },
    {
      "cell_type": "markdown",
      "metadata": {
        "id": "SbCQq5NU6MYw"
      },
      "source": [
        "For this model, the test set accuracy is about 0.97, which means we made the right\n",
        "prediction for 97% of the irises in the test set, this means that we can expect our model to be correct 97% of the time for new\n",
        "irises. For our hobby botanist application, this high level of accuracy means that our\n",
        "model may be trustworthy enough to use. "
      ]
    },
    {
      "cell_type": "code",
      "metadata": {
        "id": "hLXOgYDDsHNX",
        "outputId": "2f442e11-aca7-4c5c-d4ef-328c0b1ce8cd",
        "colab": {
          "base_uri": "https://localhost:8080/",
          "height": 33
        }
      },
      "source": [
        "print(\"Test set score: {:.2f}\".format(knn.score(X_test, y_test)))\n"
      ],
      "execution_count": null,
      "outputs": [
        {
          "output_type": "stream",
          "text": [
            "Test set score: 0.97\n"
          ],
          "name": "stdout"
        }
      ]
    },
    {
      "cell_type": "markdown",
      "metadata": {
        "id": "GO05QUpk6QPC"
      },
      "source": [
        "\n",
        "This snippet contains the core code for applying any machine learning algorithm\n",
        "using scikit-learn. "
      ]
    },
    {
      "cell_type": "code",
      "metadata": {
        "id": "LoK6h1NosS6m",
        "outputId": "788c21e1-ce59-41b1-89a6-f070b76b8e35",
        "colab": {
          "base_uri": "https://localhost:8080/",
          "height": 33
        }
      },
      "source": [
        "X_train, X_test, y_train, y_test = train_test_split(\n",
        " iris_dataset['data'], iris_dataset['target'], random_state=0)\n",
        "knn = KNeighborsClassifier(n_neighbors=1)\n",
        "knn.fit(X_train, y_train)\n",
        "print(\"Test set score: {:.2f}\".format(knn.score(X_test, y_test)))"
      ],
      "execution_count": null,
      "outputs": [
        {
          "output_type": "stream",
          "text": [
            "Test set score: 0.97\n"
          ],
          "name": "stdout"
        }
      ]
    },
    {
      "cell_type": "markdown",
      "metadata": {
        "id": "Pw8hyZFz8RVz"
      },
      "source": [
        "# reference\n",
        "\n",
        "Andreas, C, M. and Sarah, G. (2016) **Introduction to Machine Learning with Python**, by O’Reilly Media, Inc.,in the United States of America.\n",
        "\n"
      ]
    }
  ]
}